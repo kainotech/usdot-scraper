{
 "cells": [
  {
   "cell_type": "code",
   "execution_count": 58,
   "metadata": {},
   "outputs": [],
   "source": [
    "import pandas as pd"
   ]
  },
  {
   "cell_type": "code",
   "execution_count": 59,
   "metadata": {},
   "outputs": [],
   "source": [
    "f = open('output.txt', 'r')\n",
    "#then to store\n",
    "content = f.read()"
   ]
  },
  {
   "cell_type": "code",
   "execution_count": 60,
   "metadata": {},
   "outputs": [],
   "source": [
    "content = content.splitlines()"
   ]
  },
  {
   "cell_type": "code",
   "execution_count": 61,
   "metadata": {},
   "outputs": [],
   "source": [
    "usdot=[]\n",
    "mc=[]\n",
    "carrier=[]\n",
    "status=[]\n",
    "operations=[]\n",
    "hazmat=[]"
   ]
  },
  {
   "cell_type": "code",
   "execution_count": 62,
   "metadata": {},
   "outputs": [],
   "source": [
    "for i, line in enumerate(content):\n",
    "    if line.startswith(\"USDOT\"):\n",
    "        if content[i+1]==\"Carrier\":\n",
    "            usdot.append(line)\n",
    "            mc.append(\"null\")\n",
    "            carrier.append(content[i+2]+\" \"+content[i+3])\n",
    "            status.append(content[i+4].split(\":\")[1])\n",
    "            operations.append(content[i+5].split(\":\")[1])\n",
    "            hazmat.append(content[i+6].split(\":\")[1])\n",
    "        elif content[i+1].startswith(\"MC\"):\n",
    "            usdot.append(line)\n",
    "            mc.append(content[i+1])\n",
    "            carrier.append(content[i+3]+\" \"+content[i+4])\n",
    "            status.append(content[i+5].split(\":\")[1])\n",
    "            operations.append(content[i+6].split(\":\")[1])\n",
    "            hazmat.append(content[i+7].split(\":\")[1])\n"
   ]
  },
  {
   "cell_type": "code",
   "execution_count": 63,
   "metadata": {},
   "outputs": [
    {
     "name": "stdout",
     "output_type": "stream",
     "text": [
      "47\n",
      "47\n",
      "47\n",
      "47\n",
      "47\n",
      "47\n"
     ]
    }
   ],
   "source": [
    "print(len(usdot))\n",
    "print(len(mc))\n",
    "print(len(carrier))\n",
    "print(len(status))\n",
    "print(len(operations))\n",
    "print(len(hazmat))"
   ]
  },
  {
   "cell_type": "code",
   "execution_count": 64,
   "metadata": {},
   "outputs": [],
   "source": [
    "\n",
    "# Make dictionary, keys will become dataframe column names\n",
    "intermediate_dictionary = {'USDOT':usdot, 'MC':mc,'Carrier':carrier,\"Status\":status,\"Operations\":operations,\"Hazmat\":hazmat}\n",
    "\n",
    "# Convert dictionary to Pandas dataframe\n",
    "pandas_dataframe = pd.DataFrame(intermediate_dictionary)"
   ]
  },
  {
   "cell_type": "code",
   "execution_count": 66,
   "metadata": {},
   "outputs": [
    {
     "data": {
      "text/html": [
       "<div>\n",
       "<style scoped>\n",
       "    .dataframe tbody tr th:only-of-type {\n",
       "        vertical-align: middle;\n",
       "    }\n",
       "\n",
       "    .dataframe tbody tr th {\n",
       "        vertical-align: top;\n",
       "    }\n",
       "\n",
       "    .dataframe thead th {\n",
       "        text-align: right;\n",
       "    }\n",
       "</style>\n",
       "<table border=\"1\" class=\"dataframe\">\n",
       "  <thead>\n",
       "    <tr style=\"text-align: right;\">\n",
       "      <th></th>\n",
       "      <th>USDOT</th>\n",
       "      <th>MC</th>\n",
       "      <th>Carrier</th>\n",
       "      <th>Status</th>\n",
       "      <th>Operations</th>\n",
       "      <th>Hazmat</th>\n",
       "    </tr>\n",
       "  </thead>\n",
       "  <tbody>\n",
       "    <tr>\n",
       "      <th>0</th>\n",
       "      <td>USDOT 883</td>\n",
       "      <td>null</td>\n",
       "      <td>NORTHWEST PIPE FITTINGS INC RAPID CITY, SD (60...</td>\n",
       "      <td>ACTIVE</td>\n",
       "      <td>Interstate</td>\n",
       "      <td>NO</td>\n",
       "    </tr>\n",
       "    <tr>\n",
       "      <th>1</th>\n",
       "      <td>USDOT 1596</td>\n",
       "      <td>null</td>\n",
       "      <td>FOLTZ LITTER INC MATHIAS, WV (304) 897-5266</td>\n",
       "      <td>ACTIVE</td>\n",
       "      <td>Interstate</td>\n",
       "      <td>NO</td>\n",
       "    </tr>\n",
       "    <tr>\n",
       "      <th>2</th>\n",
       "      <td>USDOT 2340</td>\n",
       "      <td>MC177051</td>\n",
       "      <td>KORTH TRUCKING INC NORFOLK, NE (402) 371-7741</td>\n",
       "      <td>AUTHORIZED FOR PROPERTY</td>\n",
       "      <td>Interstate</td>\n",
       "      <td>NO</td>\n",
       "    </tr>\n",
       "    <tr>\n",
       "      <th>3</th>\n",
       "      <td>USDOT 2824</td>\n",
       "      <td>null</td>\n",
       "      <td>AMERICAN BLOCK COMPANY INC PRINCETON, WV (304)...</td>\n",
       "      <td>ACTIVE</td>\n",
       "      <td>Interstate</td>\n",
       "      <td>NO</td>\n",
       "    </tr>\n",
       "    <tr>\n",
       "      <th>4</th>\n",
       "      <td>USDOT 4400</td>\n",
       "      <td>null</td>\n",
       "      <td>CAMPBELL TRACTOR &amp; IMPLEMENT INC (CAMPBELL TRA...</td>\n",
       "      <td>ACTIVE</td>\n",
       "      <td>Interstate</td>\n",
       "      <td>NO</td>\n",
       "    </tr>\n",
       "  </tbody>\n",
       "</table>\n",
       "</div>"
      ],
      "text/plain": [
       "        USDOT        MC                                            Carrier  \\\n",
       "0   USDOT 883      null  NORTHWEST PIPE FITTINGS INC RAPID CITY, SD (60...   \n",
       "1  USDOT 1596      null        FOLTZ LITTER INC MATHIAS, WV (304) 897-5266   \n",
       "2  USDOT 2340  MC177051      KORTH TRUCKING INC NORFOLK, NE (402) 371-7741   \n",
       "3  USDOT 2824      null  AMERICAN BLOCK COMPANY INC PRINCETON, WV (304)...   \n",
       "4  USDOT 4400      null  CAMPBELL TRACTOR & IMPLEMENT INC (CAMPBELL TRA...   \n",
       "\n",
       "                     Status   Operations Hazmat  \n",
       "0                    ACTIVE   Interstate     NO  \n",
       "1                    ACTIVE   Interstate     NO  \n",
       "2   AUTHORIZED FOR PROPERTY   Interstate     NO  \n",
       "3                    ACTIVE   Interstate     NO  \n",
       "4                    ACTIVE   Interstate     NO  "
      ]
     },
     "execution_count": 66,
     "metadata": {},
     "output_type": "execute_result"
    }
   ],
   "source": [
    "pandas_dataframe.head()"
   ]
  },
  {
   "cell_type": "code",
   "execution_count": 67,
   "metadata": {},
   "outputs": [],
   "source": [
    "pandas_dataframe.to_csv('response.csv', index = False, encoding='utf-8')"
   ]
  }
 ],
 "metadata": {
  "kernelspec": {
   "display_name": "Python 3.9.9 ('.venv': venv)",
   "language": "python",
   "name": "python3"
  },
  "language_info": {
   "codemirror_mode": {
    "name": "ipython",
    "version": 3
   },
   "file_extension": ".py",
   "mimetype": "text/x-python",
   "name": "python",
   "nbconvert_exporter": "python",
   "pygments_lexer": "ipython3",
   "version": "3.9.9"
  },
  "orig_nbformat": 4,
  "vscode": {
   "interpreter": {
    "hash": "b632faf08294e32e05e4e52fa9ae0f2cfd309e39f4e6866cf7a9068f2ca9c4ab"
   }
  }
 },
 "nbformat": 4,
 "nbformat_minor": 2
}
