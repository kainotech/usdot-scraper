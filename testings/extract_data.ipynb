{
 "cells": [
  {
   "cell_type": "code",
   "execution_count": 6,
   "metadata": {},
   "outputs": [],
   "source": [
    "from bs4 import BeautifulSoup as bs\n",
    "import lxml.html as lh\n",
    "from lxml.html import builder as E\n",
    "from bs4 import BeautifulSoup\n",
    "import requests\n",
    "import json\n",
    "import re\n",
    "import csv\n",
    "import pandas as pd"
   ]
  },
  {
   "cell_type": "code",
   "execution_count": 7,
   "metadata": {},
   "outputs": [],
   "source": [
    "def usdot_request(start):\n",
    "\n",
    "    cookies = {\n",
    "        'X-KEY': 'eyJpdiI6InVVc01BR3dvYm8xNmEyYko1NnYwTGc9PSIsInZhbHVlIjoiVXBpZDlCbThzdkNDWkcyVityU2UzMXUwaEpOV1o3MG13T0o3Q3o3U0xkdWFnVkdnSll0eHRaZGltV1QwRk1vdUhKVVBTbkkvcEZuV3IzN2VjSXA5OFBENVNCNUlIcHBFQThVbHd5TityRkM3ZURmUWpMWWF5RzU2R0cvTXdFd2M5bUtacVpWUVJBMTNISEM0OGN5bkhvczJDNnlucUJvYWpDaHV2ZS9FWnRZZExXdExHVkFWajFCZDRGU0JMeXl5SG56RmE2bVdtYlpMMFVrWnUydExXa2xRNVVpT1ZpUHhLT3VneXFtbFE4bFl2em1IOVpONlZySExnL0xJaThSVyIsIm1hYyI6IjI1NDI1YWEzZmUwMzRhNDdjODQ3MDhhNDA1YjZiMDBhYzJhMzRiYjU5OTk4YmUxN2NhMzg1OWU0ZDg0NTQ2ZDQifQ%3D%3D',\n",
    "        '_ga': 'GA1.1.1581905416.1655785741',\n",
    "        '__gads': 'ID=99f07c8c1a291d4d-2257f1a267d40030:T=1655785920:RT=1655785920:S=ALNI_MYlSRLddQtXSEyb4lHHQsOjsdUeUg',\n",
    "        '__gpi': 'UID=000006d14ebceca5:T=1655785920:RT=1655807753:S=ALNI_MZh0MOvwE_5nwCwuuuhUqb7KFLpkQ',\n",
    "        '_ga_2CX7JCZ1RS': 'GS1.1.1655807743.7.1.1655807957.0',\n",
    "    }\n",
    "\n",
    "    headers = {\n",
    "        'Accept': 'application/json, text/javascript, */*; q=0.01',\n",
    "        'Accept-Language': 'en-US,en;q=0.9,ru;q=0.8',\n",
    "        'Cache-Control': 'no-cache',\n",
    "        'Connection': 'keep-alive',\n",
    "        'Content-Type': 'application/x-www-form-urlencoded; charset=UTF-8',\n",
    "        # Requests sorts cookies= alphabetically\n",
    "        # 'Cookie': 'X-KEY=eyJpdiI6InVVc01BR3dvYm8xNmEyYko1NnYwTGc9PSIsInZhbHVlIjoiVXBpZDlCbThzdkNDWkcyVityU2UzMXUwaEpOV1o3MG13T0o3Q3o3U0xkdWFnVkdnSll0eHRaZGltV1QwRk1vdUhKVVBTbkkvcEZuV3IzN2VjSXA5OFBENVNCNUlIcHBFQThVbHd5TityRkM3ZURmUWpMWWF5RzU2R0cvTXdFd2M5bUtacVpWUVJBMTNISEM0OGN5bkhvczJDNnlucUJvYWpDaHV2ZS9FWnRZZExXdExHVkFWajFCZDRGU0JMeXl5SG56RmE2bVdtYlpMMFVrWnUydExXa2xRNVVpT1ZpUHhLT3VneXFtbFE4bFl2em1IOVpONlZySExnL0xJaThSVyIsIm1hYyI6IjI1NDI1YWEzZmUwMzRhNDdjODQ3MDhhNDA1YjZiMDBhYzJhMzRiYjU5OTk4YmUxN2NhMzg1OWU0ZDg0NTQ2ZDQifQ%3D%3D; _ga=GA1.1.1581905416.1655785741; __gads=ID=99f07c8c1a291d4d-2257f1a267d40030:T=1655785920:RT=1655785920:S=ALNI_MYlSRLddQtXSEyb4lHHQsOjsdUeUg; __gpi=UID=000006d14ebceca5:T=1655785920:RT=1655807753:S=ALNI_MZh0MOvwE_5nwCwuuuhUqb7KFLpkQ; _ga_2CX7JCZ1RS=GS1.1.1655807743.7.1.1655807957.0',\n",
    "        'Origin': 'https://usdot411.com',\n",
    "        'Pragma': 'no-cache',\n",
    "        'Referer': 'https://usdot411.com/user/search/advanced',\n",
    "        'Sec-Fetch-Dest': 'empty',\n",
    "        'Sec-Fetch-Mode': 'cors',\n",
    "        'Sec-Fetch-Site': 'same-origin',\n",
    "        'User-Agent': 'Mozilla/5.0 (Windows NT 10.0; Win64; x64) AppleWebKit/537.36 (KHTML, like Gecko) Chrome/102.0.0.0 Safari/537.36',\n",
    "        'X-Requested-With': 'XMLHttpRequest',\n",
    "        'sec-ch-ua': '\" Not A;Brand\";v=\"99\", \"Chromium\";v=\"102\", \"Google Chrome\";v=\"102\"',\n",
    "        'sec-ch-ua-mobile': '?0',\n",
    "        'sec-ch-ua-platform': '\"Windows\"',\n",
    "    }\n",
    "\n",
    "    data = {\n",
    "        'state': '',\n",
    "        'zip': '',\n",
    "        'distance': '0',\n",
    "        'hazmat': '',\n",
    "        'units': '4',\n",
    "        'start':str(start)\n",
    "    }\n",
    "\n",
    "    return requests.post('https://usdot411.com/user/search/advanced/list', cookies=cookies, headers=headers, data=data)"
   ]
  },
  {
   "cell_type": "code",
   "execution_count": 10,
   "metadata": {},
   "outputs": [
    {
     "name": "stdout",
     "output_type": "stream",
     "text": [
      "0\n",
      "50\n",
      "100\n",
      "150\n",
      "200\n",
      "250\n",
      "300\n",
      "350\n",
      "400\n",
      "450\n",
      "500\n",
      "550\n",
      "600\n",
      "650\n",
      "700\n",
      "750\n",
      "800\n",
      "850\n",
      "900\n",
      "950\n",
      "1000\n",
      "1050\n",
      "1100\n",
      "1150\n",
      "1200\n",
      "1250\n"
     ]
    }
   ],
   "source": [
    "html_string=\"\"\n",
    "for i in range(0,1300,50):\n",
    "    print(i)\n",
    "    html_string=html_string+(json.loads(usdot_request(i).text)[\"data\"][\"content\"])"
   ]
  },
  {
   "cell_type": "code",
   "execution_count": 11,
   "metadata": {},
   "outputs": [],
   "source": [
    "def get_usdot(html_string):\n",
    "    usdot=[]\n",
    "    root = html_string \n",
    "    soup = bs(root)               \n",
    "    prettyHTML = soup.prettify()\n",
    "    cleantext = BeautifulSoup(prettyHTML, \"lxml\").text.replace(\" \", \"\").split(\"USDOT\") \n",
    "    cleantext.pop(0)\n",
    "    for line in cleantext:\n",
    "        try:\n",
    "            if int(line[:8].replace(\"\\n\",\"\")): \n",
    "                usdot.append(line[:8].replace(\"\\n\",\"\")) \n",
    "        except:\n",
    "            pass\n",
    "    return usdot"
   ]
  },
  {
   "cell_type": "code",
   "execution_count": 12,
   "metadata": {},
   "outputs": [],
   "source": [
    "usdots=get_usdot(html_string)"
   ]
  },
  {
   "cell_type": "code",
   "execution_count": 13,
   "metadata": {},
   "outputs": [],
   "source": [
    "file = open(\"usdot_1000+.txt\",\"w\") \n",
    "file.write(str(usdots))\n",
    "file.close() "
   ]
  },
  {
   "cell_type": "code",
   "execution_count": 14,
   "metadata": {},
   "outputs": [
    {
     "data": {
      "text/plain": [
       "1265"
      ]
     },
     "execution_count": 14,
     "metadata": {},
     "output_type": "execute_result"
    }
   ],
   "source": [
    "len(usdots)"
   ]
  },
  {
   "cell_type": "markdown",
   "metadata": {},
   "source": [
    "each company"
   ]
  },
  {
   "cell_type": "code",
   "execution_count": 15,
   "metadata": {},
   "outputs": [],
   "source": [
    "def get_company_page(usdot_no):\n",
    "    cookies = {\n",
    "        'X-KEY': 'eyJpdiI6InVVc01BR3dvYm8xNmEyYko1NnYwTGc9PSIsInZhbHVlIjoiVXBpZDlCbThzdkNDWkcyVityU2UzMXUwaEpOV1o3MG13T0o3Q3o3U0xkdWFnVkdnSll0eHRaZGltV1QwRk1vdUhKVVBTbkkvcEZuV3IzN2VjSXA5OFBENVNCNUlIcHBFQThVbHd5TityRkM3ZURmUWpMWWF5RzU2R0cvTXdFd2M5bUtacVpWUVJBMTNISEM0OGN5bkhvczJDNnlucUJvYWpDaHV2ZS9FWnRZZExXdExHVkFWajFCZDRGU0JMeXl5SG56RmE2bVdtYlpMMFVrWnUydExXa2xRNVVpT1ZpUHhLT3VneXFtbFE4bFl2em1IOVpONlZySExnL0xJaThSVyIsIm1hYyI6IjI1NDI1YWEzZmUwMzRhNDdjODQ3MDhhNDA1YjZiMDBhYzJhMzRiYjU5OTk4YmUxN2NhMzg1OWU0ZDg0NTQ2ZDQifQ%3D%3D',\n",
    "        '_ga': 'GA1.1.1581905416.1655785741',\n",
    "        '__gads': 'ID=99f07c8c1a291d4d-2257f1a267d40030:T=1655785920:RT=1655785920:S=ALNI_MYlSRLddQtXSEyb4lHHQsOjsdUeUg',\n",
    "        '__gpi': 'UID=000006d14ebceca5:T=1655785920:RT=1655807753:S=ALNI_MZh0MOvwE_5nwCwuuuhUqb7KFLpkQ',\n",
    "        '_ga_2CX7JCZ1RS': 'GS1.1.1655807743.7.1.1655807957.0',\n",
    "    }\n",
    "\n",
    "    headers = {\n",
    "        'Accept': 'text/html,application/xhtml+xml,application/xml;q=0.9,image/avif,image/webp,image/apng,*/*;q=0.8,application/signed-exchange;v=b3;q=0.9',\n",
    "        'Accept-Language': 'en-US,en;q=0.9,ru;q=0.8',\n",
    "        'Cache-Control': 'no-cache',\n",
    "        'Connection': 'keep-alive',\n",
    "        # Requests sorts cookies= alphabetically\n",
    "        # 'Cookie': 'X-KEY=eyJpdiI6InVVc01BR3dvYm8xNmEyYko1NnYwTGc9PSIsInZhbHVlIjoiVXBpZDlCbThzdkNDWkcyVityU2UzMXUwaEpOV1o3MG13T0o3Q3o3U0xkdWFnVkdnSll0eHRaZGltV1QwRk1vdUhKVVBTbkkvcEZuV3IzN2VjSXA5OFBENVNCNUlIcHBFQThVbHd5TityRkM3ZURmUWpMWWF5RzU2R0cvTXdFd2M5bUtacVpWUVJBMTNISEM0OGN5bkhvczJDNnlucUJvYWpDaHV2ZS9FWnRZZExXdExHVkFWajFCZDRGU0JMeXl5SG56RmE2bVdtYlpMMFVrWnUydExXa2xRNVVpT1ZpUHhLT3VneXFtbFE4bFl2em1IOVpONlZySExnL0xJaThSVyIsIm1hYyI6IjI1NDI1YWEzZmUwMzRhNDdjODQ3MDhhNDA1YjZiMDBhYzJhMzRiYjU5OTk4YmUxN2NhMzg1OWU0ZDg0NTQ2ZDQifQ%3D%3D; _ga=GA1.1.1581905416.1655785741; __gads=ID=99f07c8c1a291d4d-2257f1a267d40030:T=1655785920:RT=1655785920:S=ALNI_MYlSRLddQtXSEyb4lHHQsOjsdUeUg; __gpi=UID=000006d14ebceca5:T=1655785920:RT=1655807753:S=ALNI_MZh0MOvwE_5nwCwuuuhUqb7KFLpkQ; _ga_2CX7JCZ1RS=GS1.1.1655807743.7.1.1655807957.0',\n",
    "        'Pragma': 'no-cache',\n",
    "        'Referer': 'https://usdot411.com/user/search/advanced',\n",
    "        'Sec-Fetch-Dest': 'document',\n",
    "        'Sec-Fetch-Mode': 'navigate',\n",
    "        'Sec-Fetch-Site': 'same-origin',\n",
    "        'Sec-Fetch-User': '?1',\n",
    "        'Upgrade-Insecure-Requests': '1',\n",
    "        'User-Agent': 'Mozilla/5.0 (Windows NT 10.0; Win64; x64) AppleWebKit/537.36 (KHTML, like Gecko) Chrome/102.0.0.0 Safari/537.36',\n",
    "        'sec-ch-ua': '\" Not A;Brand\";v=\"99\", \"Chromium\";v=\"102\", \"Google Chrome\";v=\"102\"',\n",
    "        'sec-ch-ua-mobile': '?0',\n",
    "        'sec-ch-ua-platform': '\"Windows\"',\n",
    "    }\n",
    "\n",
    "    return requests.get('https://usdot411.com/'+str(usdot_no), cookies=cookies, headers=headers)"
   ]
  },
  {
   "cell_type": "code",
   "execution_count": 17,
   "metadata": {},
   "outputs": [],
   "source": [
    "company_page=get_company_page(279381).text\n",
    "soup = bs(company_page)               \n",
    "prettyHTML = soup.prettify()\n",
    "cleantext = BeautifulSoup(prettyHTML, \"lxml\").text.strip('\\n')\n",
    "cleantext=' '.join(cleantext.split())"
   ]
  },
  {
   "cell_type": "code",
   "execution_count": 18,
   "metadata": {},
   "outputs": [
    {
     "data": {
      "text/plain": [
       "'USDOT 279381 US DOT 411 Search Monitoring Analytics USDOT 279381 No data available There is no information available for USDOT 279381 usdot411.com © 2020 About Contacts Privacy Terms Justin Lu Premium Trial Search Monitoring Analytics Account Directory About Contacts Privacy Policy Terms of Use Sign out'"
      ]
     },
     "execution_count": 18,
     "metadata": {},
     "output_type": "execute_result"
    }
   ],
   "source": [
    "cleantext"
   ]
  },
  {
   "cell_type": "code",
   "execution_count": 19,
   "metadata": {},
   "outputs": [],
   "source": [
    "company_info=[\"Operating status\",\"DBA\",\"Entity type\",\"Operations\",\"Classification\",\"Docket #\",\"DUNS #\",\"SCAC\",\"MCS-150 form date\",\"MCS-150 Mileage/Year\",\"Fleet Details\"]\n",
    "contact_info=[\"Business address\",\"Phone\",\"Fax\",\"Email\",\"Web\",\"Mailing address\",\"Representative\",\"Commodities\"]\n",
    "fleet_info=[\"Power units\", \"Autonomous units\", \"Electric units\", \"Drivers\", \"SmartWay\", \"CARB TRU\",\"Contacts\"]\n",
    "all_records=[]"
   ]
  },
  {
   "cell_type": "code",
   "execution_count": 20,
   "metadata": {},
   "outputs": [],
   "source": [
    "def extract(usdot_no):\n",
    "    data={}\n",
    "    company_page=get_company_page(usdot_no).text\n",
    "    soup = bs(company_page)               \n",
    "    prettyHTML = soup.prettify()\n",
    "    cleantext = BeautifulSoup(prettyHTML, \"lxml\").text.strip('\\n')\n",
    "    cleantext=' '.join(cleantext.split())\n",
    "\n",
    "    #usdot number\n",
    "    data[\"USDOT\"]=number\n",
    "    #Company Name\n",
    "    try:\n",
    "        data[\"Company Name\"]=cleantext.split(\"USDOT\")[0].replace(\"(\",\"\").strip()\n",
    "    except:\n",
    "        data[\"Company Name\"]=None\n",
    "\n",
    "    company_content=cleantext.split(\"Company\")[1]\n",
    "    contact_content=cleantext.split(\"Contacts\")[1].split(\"Building Materials\")[0]\n",
    "\n",
    "    #company details\n",
    "    for i in range(len(company_info)):\n",
    "        if company_info[i]==\"Fleet Details\":\n",
    "            break\n",
    "        try:\n",
    "            data[company_info[i]]=company_content.split(company_info[i+1])[0].split(company_info[i])[1].strip()\n",
    "        except:\n",
    "            data[company_info[i]]=None\n",
    "    \n",
    "    #contact details\n",
    "    for i in range(len(contact_info)):\n",
    "        if contact_info[i]==\"Commodities\":\n",
    "            break\n",
    "        try:\n",
    "            data[contact_info[i]]=contact_content.split(contact_info[i+1])[0].split(contact_info[i])[1].strip()\n",
    "        except:\n",
    "            data[contact_info[i]]=None\n",
    "    \n",
    "    #fleet details\n",
    "    for i in range(len(fleet_info)):\n",
    "        if fleet_info[i]==\"Contacts\":\n",
    "            break\n",
    "        try:\n",
    "            data[fleet_info[i]]=company_content.split(fleet_info[i+1])[0].split(fleet_info[i])[1].strip()\n",
    "        except:\n",
    "            data[fleet_info[i]]=None\n",
    "    return data"
   ]
  },
  {
   "cell_type": "code",
   "execution_count": 21,
   "metadata": {},
   "outputs": [],
   "source": [
    "def appendtext(fname,data):\n",
    "\twith open(fname,'a+') as f:\n",
    "\t\tf.write(data)\n",
    "\t\tf.write(\"\\n\")\n",
    "\tf.close()"
   ]
  },
  {
   "cell_type": "code",
   "execution_count": 22,
   "metadata": {},
   "outputs": [],
   "source": [
    "for number in usdots:\n",
    "    try:\n",
    "        output=extract(number)\n",
    "        all_records.append(output)\n",
    "        appendtext(\"../extracted_data/data.txt\",str(output))\n",
    "    # print(\"\\n\")\n",
    "    # print(output)\n",
    "    except:\n",
    "        pass"
   ]
  },
  {
   "cell_type": "code",
   "execution_count": 23,
   "metadata": {},
   "outputs": [
    {
     "data": {
      "text/plain": [
       "[{'USDOT': '382472',\n",
       "  'Company Name': 'FLORAL MARKETING SOLUTIONS INC',\n",
       "  'Operating status': 'NONE',\n",
       "  'DBA': '',\n",
       "  'Entity type': '',\n",
       "  'Operations': '',\n",
       "  'Classification': '',\n",
       "  'Docket #': 'MC313239',\n",
       "  'DUNS #': '',\n",
       "  'SCAC': '',\n",
       "  'MCS-150 form date': '',\n",
       "  'MCS-150 Mileage/Year': '',\n",
       "  'Business address': '4695 BARTLETT RD BEAMSVILLE ON L0R 1B1',\n",
       "  'Phone': '(905) 670-9556',\n",
       "  'Fax': '',\n",
       "  'Email': '',\n",
       "  'Web': '',\n",
       "  'Mailing address': '',\n",
       "  'Representative': '',\n",
       "  'Power units': '',\n",
       "  'Autonomous units': '',\n",
       "  'Electric units': '',\n",
       "  'Drivers': '',\n",
       "  'SmartWay': 'Not a',\n",
       "  'CARB TRU': 'Not 100% compliant'},\n",
       " {'USDOT': '390424',\n",
       "  'Company Name': 'BLUE BIRD PRODUCTS INC',\n",
       "  'Operating status': 'ACTIVE',\n",
       "  'DBA': '',\n",
       "  'Entity type': 'Carrier',\n",
       "  'Operations': 'Intrastate Non-Hazmat',\n",
       "  'Classification': 'Private Property',\n",
       "  'Docket #': '',\n",
       "  'DUNS #': '016834004',\n",
       "  'SCAC': '',\n",
       "  'MCS-150 form date': '',\n",
       "  'MCS-150 Mileage/Year': '',\n",
       "  'Business address': '15135 HAMILTON AVE HIGHLAND PARK, MI 48203-3725',\n",
       "  'Phone': '(313) 822-0255',\n",
       "  'Fax': '',\n",
       "  'Email': '',\n",
       "  'Web': '',\n",
       "  'Mailing address': '15135 HAMILTON AVE HIGHLAND PARK, MI 48203-3725',\n",
       "  'Representative': '',\n",
       "  'Power units': '22',\n",
       "  'Autonomous units': '',\n",
       "  'Electric units': '',\n",
       "  'Drivers': '',\n",
       "  'SmartWay': 'Not a',\n",
       "  'CARB TRU': 'Not 100% compliant'}]"
      ]
     },
     "execution_count": 23,
     "metadata": {},
     "output_type": "execute_result"
    }
   ],
   "source": [
    "all_records[:2]"
   ]
  },
  {
   "cell_type": "code",
   "execution_count": 24,
   "metadata": {},
   "outputs": [],
   "source": [
    "import pandas as pd\n",
    "\n",
    "df = pd.DataFrame.from_dict(all_records) \n",
    "df.to_csv (r'../extracted_data/data_1000_plus_1.csv', index = False, header=True)"
   ]
  },
  {
   "cell_type": "code",
   "execution_count": 25,
   "metadata": {},
   "outputs": [
    {
     "data": {
      "text/html": [
       "<div>\n",
       "<style scoped>\n",
       "    .dataframe tbody tr th:only-of-type {\n",
       "        vertical-align: middle;\n",
       "    }\n",
       "\n",
       "    .dataframe tbody tr th {\n",
       "        vertical-align: top;\n",
       "    }\n",
       "\n",
       "    .dataframe thead th {\n",
       "        text-align: right;\n",
       "    }\n",
       "</style>\n",
       "<table border=\"1\" class=\"dataframe\">\n",
       "  <thead>\n",
       "    <tr style=\"text-align: right;\">\n",
       "      <th></th>\n",
       "      <th>USDOT</th>\n",
       "      <th>Company Name</th>\n",
       "      <th>Operating status</th>\n",
       "      <th>DBA</th>\n",
       "      <th>Entity type</th>\n",
       "      <th>Operations</th>\n",
       "      <th>Classification</th>\n",
       "      <th>Docket #</th>\n",
       "      <th>DUNS #</th>\n",
       "      <th>SCAC</th>\n",
       "      <th>...</th>\n",
       "      <th>Email</th>\n",
       "      <th>Web</th>\n",
       "      <th>Mailing address</th>\n",
       "      <th>Representative</th>\n",
       "      <th>Power units</th>\n",
       "      <th>Autonomous units</th>\n",
       "      <th>Electric units</th>\n",
       "      <th>Drivers</th>\n",
       "      <th>SmartWay</th>\n",
       "      <th>CARB TRU</th>\n",
       "    </tr>\n",
       "  </thead>\n",
       "  <tbody>\n",
       "    <tr>\n",
       "      <th>0</th>\n",
       "      <td>382472</td>\n",
       "      <td>FLORAL MARKETING SOLUTIONS INC</td>\n",
       "      <td>NONE</td>\n",
       "      <td>NaN</td>\n",
       "      <td>NaN</td>\n",
       "      <td>NaN</td>\n",
       "      <td>NaN</td>\n",
       "      <td>MC313239</td>\n",
       "      <td>NaN</td>\n",
       "      <td>NaN</td>\n",
       "      <td>...</td>\n",
       "      <td>NaN</td>\n",
       "      <td>NaN</td>\n",
       "      <td>NaN</td>\n",
       "      <td>NaN</td>\n",
       "      <td>NaN</td>\n",
       "      <td>NaN</td>\n",
       "      <td>NaN</td>\n",
       "      <td>NaN</td>\n",
       "      <td>Not a</td>\n",
       "      <td>Not 100% compliant</td>\n",
       "    </tr>\n",
       "    <tr>\n",
       "      <th>1</th>\n",
       "      <td>390424</td>\n",
       "      <td>BLUE BIRD PRODUCTS INC</td>\n",
       "      <td>ACTIVE</td>\n",
       "      <td>NaN</td>\n",
       "      <td>Carrier</td>\n",
       "      <td>Intrastate Non-Hazmat</td>\n",
       "      <td>Private Property</td>\n",
       "      <td>NaN</td>\n",
       "      <td>16834004.0</td>\n",
       "      <td>NaN</td>\n",
       "      <td>...</td>\n",
       "      <td>NaN</td>\n",
       "      <td>NaN</td>\n",
       "      <td>15135 HAMILTON AVE HIGHLAND PARK, MI 48203-3725</td>\n",
       "      <td>NaN</td>\n",
       "      <td>22.0</td>\n",
       "      <td>NaN</td>\n",
       "      <td>NaN</td>\n",
       "      <td>NaN</td>\n",
       "      <td>Not a</td>\n",
       "      <td>Not 100% compliant</td>\n",
       "    </tr>\n",
       "    <tr>\n",
       "      <th>2</th>\n",
       "      <td>582596</td>\n",
       "      <td>TRANSPORTATION COMMODITIES INC</td>\n",
       "      <td>AUTHORIZED FOR PROPERTY</td>\n",
       "      <td>TCI LEASING AND RENTALS</td>\n",
       "      <td>Carrier</td>\n",
       "      <td>Interstate</td>\n",
       "      <td>Authorized For Hire LEASING AN</td>\n",
       "      <td>MC252726</td>\n",
       "      <td>NaN</td>\n",
       "      <td>NaN</td>\n",
       "      <td>...</td>\n",
       "      <td>vollhardtt@tci-leasing.com</td>\n",
       "      <td>NaN</td>\n",
       "      <td>4950 TRIGGS ST COMMERCE, CA 90022</td>\n",
       "      <td>ANDREW FLYNN</td>\n",
       "      <td>1003.0</td>\n",
       "      <td>NaN</td>\n",
       "      <td>NaN</td>\n",
       "      <td>14</td>\n",
       "      <td>Not a</td>\n",
       "      <td>Not 100% compliant</td>\n",
       "    </tr>\n",
       "    <tr>\n",
       "      <th>3</th>\n",
       "      <td>352900</td>\n",
       "      <td>WALTER R ANSARDI</td>\n",
       "      <td>ACTIVE</td>\n",
       "      <td>NaN</td>\n",
       "      <td>Carrier</td>\n",
       "      <td>Intrastate Non-Hazmat</td>\n",
       "      <td>APPLYING F</td>\n",
       "      <td>NaN</td>\n",
       "      <td>NaN</td>\n",
       "      <td>NaN</td>\n",
       "      <td>...</td>\n",
       "      <td>NaN</td>\n",
       "      <td>NaN</td>\n",
       "      <td>69296 ARCHIE SINGLETARY RD PEARL RIVER, LA 70452</td>\n",
       "      <td>NaN</td>\n",
       "      <td>3.0</td>\n",
       "      <td>NaN</td>\n",
       "      <td>NaN</td>\n",
       "      <td>2</td>\n",
       "      <td>Not a</td>\n",
       "      <td>Not 100% compliant</td>\n",
       "    </tr>\n",
       "    <tr>\n",
       "      <th>4</th>\n",
       "      <td>328986</td>\n",
       "      <td>CEMEX CONSTRUCTION MATERIALS FLORIDA LLC</td>\n",
       "      <td>ACTIVE</td>\n",
       "      <td>CEMEX</td>\n",
       "      <td>Carrier</td>\n",
       "      <td>Interstate</td>\n",
       "      <td>Private Property</td>\n",
       "      <td>NaN</td>\n",
       "      <td>557093945.0</td>\n",
       "      <td>NaN</td>\n",
       "      <td>...</td>\n",
       "      <td>briank.currie@cemex.com</td>\n",
       "      <td>NaN</td>\n",
       "      <td>1501 BELVEDERE ROAD WEST PALM BEACH, FL 33406</td>\n",
       "      <td>RYAN MAHONEY DONALD LAFAVERS</td>\n",
       "      <td>1004.0</td>\n",
       "      <td>NaN</td>\n",
       "      <td>NaN</td>\n",
       "      <td>879</td>\n",
       "      <td>Not a</td>\n",
       "      <td>Not 100% compliant</td>\n",
       "    </tr>\n",
       "  </tbody>\n",
       "</table>\n",
       "<p>5 rows × 25 columns</p>\n",
       "</div>"
      ],
      "text/plain": [
       "    USDOT                              Company Name         Operating status  \\\n",
       "0  382472            FLORAL MARKETING SOLUTIONS INC                     NONE   \n",
       "1  390424                    BLUE BIRD PRODUCTS INC                   ACTIVE   \n",
       "2  582596            TRANSPORTATION COMMODITIES INC  AUTHORIZED FOR PROPERTY   \n",
       "3  352900                          WALTER R ANSARDI                   ACTIVE   \n",
       "4  328986  CEMEX CONSTRUCTION MATERIALS FLORIDA LLC                   ACTIVE   \n",
       "\n",
       "                       DBA Entity type             Operations  \\\n",
       "0                      NaN         NaN                    NaN   \n",
       "1                      NaN     Carrier  Intrastate Non-Hazmat   \n",
       "2  TCI LEASING AND RENTALS     Carrier             Interstate   \n",
       "3                      NaN     Carrier  Intrastate Non-Hazmat   \n",
       "4                    CEMEX     Carrier             Interstate   \n",
       "\n",
       "                   Classification  Docket #       DUNS #  SCAC  ...  \\\n",
       "0                             NaN  MC313239          NaN   NaN  ...   \n",
       "1                Private Property       NaN   16834004.0   NaN  ...   \n",
       "2  Authorized For Hire LEASING AN  MC252726          NaN   NaN  ...   \n",
       "3                      APPLYING F       NaN          NaN   NaN  ...   \n",
       "4                Private Property       NaN  557093945.0   NaN  ...   \n",
       "\n",
       "                        Email  Web  \\\n",
       "0                         NaN  NaN   \n",
       "1                         NaN  NaN   \n",
       "2  vollhardtt@tci-leasing.com  NaN   \n",
       "3                         NaN  NaN   \n",
       "4     briank.currie@cemex.com  NaN   \n",
       "\n",
       "                                    Mailing address  \\\n",
       "0                                               NaN   \n",
       "1   15135 HAMILTON AVE HIGHLAND PARK, MI 48203-3725   \n",
       "2                 4950 TRIGGS ST COMMERCE, CA 90022   \n",
       "3  69296 ARCHIE SINGLETARY RD PEARL RIVER, LA 70452   \n",
       "4     1501 BELVEDERE ROAD WEST PALM BEACH, FL 33406   \n",
       "\n",
       "                 Representative Power units Autonomous units Electric units  \\\n",
       "0                           NaN         NaN              NaN            NaN   \n",
       "1                           NaN        22.0              NaN            NaN   \n",
       "2                  ANDREW FLYNN      1003.0              NaN            NaN   \n",
       "3                           NaN         3.0              NaN            NaN   \n",
       "4  RYAN MAHONEY DONALD LAFAVERS      1004.0              NaN            NaN   \n",
       "\n",
       "  Drivers SmartWay            CARB TRU  \n",
       "0     NaN    Not a  Not 100% compliant  \n",
       "1     NaN    Not a  Not 100% compliant  \n",
       "2      14    Not a  Not 100% compliant  \n",
       "3       2    Not a  Not 100% compliant  \n",
       "4     879    Not a  Not 100% compliant  \n",
       "\n",
       "[5 rows x 25 columns]"
      ]
     },
     "execution_count": 25,
     "metadata": {},
     "output_type": "execute_result"
    }
   ],
   "source": [
    "df=pd.read_csv(\"../extracted_data/data_1000_plus_1.csv\")\n",
    "df.head()"
   ]
  },
  {
   "cell_type": "code",
   "execution_count": 26,
   "metadata": {},
   "outputs": [
    {
     "data": {
      "text/plain": [
       "Index(['USDOT', 'Company Name', 'Operating status', 'DBA', 'Entity type',\n",
       "       'Operations', 'Classification', 'Docket #', 'DUNS #', 'SCAC',\n",
       "       'MCS-150 form date', 'MCS-150 Mileage/Year', 'Business address',\n",
       "       'Phone', 'Fax', 'Email', 'Web', 'Mailing address', 'Representative',\n",
       "       'Power units', 'Autonomous units', 'Electric units', 'Drivers',\n",
       "       'SmartWay', 'CARB TRU'],\n",
       "      dtype='object')"
      ]
     },
     "execution_count": 26,
     "metadata": {},
     "output_type": "execute_result"
    }
   ],
   "source": [
    "df.columns"
   ]
  },
  {
   "cell_type": "code",
   "execution_count": 27,
   "metadata": {},
   "outputs": [
    {
     "data": {
      "text/plain": [
       "(595, 25)"
      ]
     },
     "execution_count": 27,
     "metadata": {},
     "output_type": "execute_result"
    }
   ],
   "source": [
    "df.shape"
   ]
  },
  {
   "cell_type": "code",
   "execution_count": 28,
   "metadata": {},
   "outputs": [
    {
     "data": {
      "text/plain": [
       "4"
      ]
     },
     "execution_count": 28,
     "metadata": {},
     "output_type": "execute_result"
    }
   ],
   "source": [
    "df.duplicated().sum()"
   ]
  }
 ],
 "metadata": {
  "kernelspec": {
   "display_name": "Python 3.9.9 ('.venv': venv)",
   "language": "python",
   "name": "python3"
  },
  "language_info": {
   "codemirror_mode": {
    "name": "ipython",
    "version": 3
   },
   "file_extension": ".py",
   "mimetype": "text/x-python",
   "name": "python",
   "nbconvert_exporter": "python",
   "pygments_lexer": "ipython3",
   "version": "3.9.9"
  },
  "orig_nbformat": 4,
  "vscode": {
   "interpreter": {
    "hash": "b632faf08294e32e05e4e52fa9ae0f2cfd309e39f4e6866cf7a9068f2ca9c4ab"
   }
  }
 },
 "nbformat": 4,
 "nbformat_minor": 2
}
