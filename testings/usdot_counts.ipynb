{
 "cells": [
  {
   "cell_type": "code",
   "execution_count": 1,
   "metadata": {},
   "outputs": [],
   "source": [
    "from os import listdir\n",
    "from os.path import isfile, join\n",
    "mypath=\"../testings/\"\n",
    "files = [f for f in listdir(mypath) if isfile(join(mypath, f)) and \".txt\" in f]"
   ]
  },
  {
   "cell_type": "code",
   "execution_count": 2,
   "metadata": {},
   "outputs": [
    {
     "name": "stdout",
     "output_type": "stream",
     "text": [
      "usdot_10+_10.txt  :  20000\n",
      "usdot_10+_11.txt  :  80000\n",
      "usdot_10+_4.txt  :  88169\n",
      "usdot_10+_5.txt  :  49921\n",
      "usdot_10+_6.txt  :  50000\n",
      "usdot_10+_7.txt  :  50000\n",
      "usdot_10+_8.txt  :  30000\n",
      "usdot_10+_9.txt  :  20000\n",
      "\n",
      "Total USDOT : 388090\n"
     ]
    }
   ],
   "source": [
    "total=0\n",
    "for path in files:\n",
    "    with open (path, \"r\") as myfile:\n",
    "        data = myfile.read()\n",
    "        data=data.replace(\"[\",\"\").replace(\"]\",\"\").replace(\"'\",\"\").replace('\"',\"\")\n",
    "        _all_usdots = data.split(',')\n",
    "    all_usdots=[]\n",
    "    for element in _all_usdots:\n",
    "        all_usdots.append(element.strip())\n",
    "    total+=len(all_usdots)\n",
    "    print(f\"{path}  :  {len(all_usdots)}\")\n",
    "print(f\"\\nTotal USDOT : {total}\")"
   ]
  }
 ],
 "metadata": {
  "kernelspec": {
   "display_name": "Python 3.9.9 ('.venv': venv)",
   "language": "python",
   "name": "python3"
  },
  "language_info": {
   "codemirror_mode": {
    "name": "ipython",
    "version": 3
   },
   "file_extension": ".py",
   "mimetype": "text/x-python",
   "name": "python",
   "nbconvert_exporter": "python",
   "pygments_lexer": "ipython3",
   "version": "3.9.9"
  },
  "orig_nbformat": 4,
  "vscode": {
   "interpreter": {
    "hash": "b632faf08294e32e05e4e52fa9ae0f2cfd309e39f4e6866cf7a9068f2ca9c4ab"
   }
  }
 },
 "nbformat": 4,
 "nbformat_minor": 2
}
