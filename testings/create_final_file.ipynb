{
 "cells": [
  {
   "cell_type": "code",
   "execution_count": 185,
   "metadata": {},
   "outputs": [],
   "source": [
    "import pandas as pd"
   ]
  },
  {
   "cell_type": "code",
   "execution_count": 186,
   "metadata": {},
   "outputs": [],
   "source": [
    "import os\n",
    "\n",
    "path =\"../raw_data/\"\n",
    "#we shall store all the file names in this list\n",
    "filelist = []\n",
    "\n",
    "for root, dirs, files in os.walk(path):\n",
    "\tfor file in files:\n",
    "        #append the file name to the list\n",
    "\t\tfilelist.append(os.path.join(root,file))"
   ]
  },
  {
   "cell_type": "code",
   "execution_count": 187,
   "metadata": {},
   "outputs": [
    {
     "data": {
      "text/plain": [
       "['../raw_data/raw_1.csv',\n",
       " '../raw_data/raw_2.csv',\n",
       " '../raw_data/raw_3.csv',\n",
       " '../raw_data/raw_4.csv',\n",
       " '../raw_data/raw_5.csv',\n",
       " '../raw_data/raw_6.csv']"
      ]
     },
     "execution_count": 187,
     "metadata": {},
     "output_type": "execute_result"
    }
   ],
   "source": [
    "filelist"
   ]
  },
  {
   "cell_type": "code",
   "execution_count": 188,
   "metadata": {},
   "outputs": [],
   "source": [
    "df=None\n",
    "for path in filelist:\n",
    "    _df=pd.read_csv(path)\n",
    "    df=pd.concat([df,_df])"
   ]
  },
  {
   "cell_type": "code",
   "execution_count": 189,
   "metadata": {},
   "outputs": [
    {
     "data": {
      "text/plain": [
       "(278090, 2)"
      ]
     },
     "execution_count": 189,
     "metadata": {},
     "output_type": "execute_result"
    }
   ],
   "source": [
    "df.shape"
   ]
  },
  {
   "cell_type": "code",
   "execution_count": 190,
   "metadata": {},
   "outputs": [
    {
     "data": {
      "text/html": [
       "<div>\n",
       "<style scoped>\n",
       "    .dataframe tbody tr th:only-of-type {\n",
       "        vertical-align: middle;\n",
       "    }\n",
       "\n",
       "    .dataframe tbody tr th {\n",
       "        vertical-align: top;\n",
       "    }\n",
       "\n",
       "    .dataframe thead th {\n",
       "        text-align: right;\n",
       "    }\n",
       "</style>\n",
       "<table border=\"1\" class=\"dataframe\">\n",
       "  <thead>\n",
       "    <tr style=\"text-align: right;\">\n",
       "      <th></th>\n",
       "      <th>USDOT</th>\n",
       "      <th>content</th>\n",
       "    </tr>\n",
       "  </thead>\n",
       "  <tbody>\n",
       "    <tr>\n",
       "      <th>0</th>\n",
       "      <td>883</td>\n",
       "      <td>NORTHWEST PIPE FITTINGS INC (USDOT 883) US DOT...</td>\n",
       "    </tr>\n",
       "    <tr>\n",
       "      <th>1</th>\n",
       "      <td>1596</td>\n",
       "      <td>FOLTZ LITTER INC (USDOT 1596) US DOT 411 Searc...</td>\n",
       "    </tr>\n",
       "    <tr>\n",
       "      <th>2</th>\n",
       "      <td>2340</td>\n",
       "      <td>KORTH TRUCKING INC (USDOT 2340) US DOT 411 Sea...</td>\n",
       "    </tr>\n",
       "    <tr>\n",
       "      <th>3</th>\n",
       "      <td>2824</td>\n",
       "      <td>AMERICAN BLOCK COMPANY INC (USDOT 2824) US DOT...</td>\n",
       "    </tr>\n",
       "    <tr>\n",
       "      <th>4</th>\n",
       "      <td>4400</td>\n",
       "      <td>CAMPBELL TRACTOR &amp; IMPLEMENT INC (USDOT 4400) ...</td>\n",
       "    </tr>\n",
       "  </tbody>\n",
       "</table>\n",
       "</div>"
      ],
      "text/plain": [
       "   USDOT                                            content\n",
       "0    883  NORTHWEST PIPE FITTINGS INC (USDOT 883) US DOT...\n",
       "1   1596  FOLTZ LITTER INC (USDOT 1596) US DOT 411 Searc...\n",
       "2   2340  KORTH TRUCKING INC (USDOT 2340) US DOT 411 Sea...\n",
       "3   2824  AMERICAN BLOCK COMPANY INC (USDOT 2824) US DOT...\n",
       "4   4400  CAMPBELL TRACTOR & IMPLEMENT INC (USDOT 4400) ..."
      ]
     },
     "execution_count": 190,
     "metadata": {},
     "output_type": "execute_result"
    }
   ],
   "source": [
    "df.head()"
   ]
  },
  {
   "cell_type": "code",
   "execution_count": 191,
   "metadata": {},
   "outputs": [
    {
     "data": {
      "text/plain": [
       "24565"
      ]
     },
     "execution_count": 191,
     "metadata": {},
     "output_type": "execute_result"
    }
   ],
   "source": [
    "df.duplicated().sum()"
   ]
  },
  {
   "cell_type": "code",
   "execution_count": 192,
   "metadata": {},
   "outputs": [],
   "source": [
    "df = df.drop_duplicates()"
   ]
  },
  {
   "cell_type": "code",
   "execution_count": 193,
   "metadata": {},
   "outputs": [
    {
     "data": {
      "text/plain": [
       "0"
      ]
     },
     "execution_count": 193,
     "metadata": {},
     "output_type": "execute_result"
    }
   ],
   "source": [
    "df.duplicated().sum()"
   ]
  },
  {
   "cell_type": "code",
   "execution_count": 194,
   "metadata": {},
   "outputs": [
    {
     "data": {
      "text/plain": [
       "(253525, 2)"
      ]
     },
     "execution_count": 194,
     "metadata": {},
     "output_type": "execute_result"
    }
   ],
   "source": [
    "df.shape"
   ]
  },
  {
   "cell_type": "code",
   "execution_count": 195,
   "metadata": {},
   "outputs": [],
   "source": [
    "# df.to_csv()"
   ]
  },
  {
   "cell_type": "code",
   "execution_count": 196,
   "metadata": {},
   "outputs": [],
   "source": [
    "company_info=[\"Operating status\",\"DBA\",\"Entity type\",\"Operations\",\"Classification\",\"Docket #\",\"DUNS #\",\"SCAC\",\"MCS-150 form date\",\"MCS-150 Mileage/Year\",\"Fleet Details\"]\n",
    "contact_info=[\"Business address\",\"Phone\",\"Fax\",\"Email\",\"Web\",\"Mailing address\",\"Representative\",\"Commodities\"]\n",
    "fleet_info=[\"Power units\", \"Autonomous units\", \"Electric units\", \"Drivers\", \"SmartWay\", \"CARB TRU\",\"Contacts\"]\n",
    "all_records=[]\n",
    "allrecords_no_data=[]"
   ]
  },
  {
   "cell_type": "code",
   "execution_count": 197,
   "metadata": {},
   "outputs": [],
   "source": [
    "def extract(number,cleantext):\n",
    "    data={}\n",
    "    #usdot number\n",
    "    data[\"USDOT\"]=number\n",
    "    #Company Name\n",
    "    try:\n",
    "        data[\"Company Name\"]=cleantext.split(\"USDOT\")[0].replace(\"(\",\"\").strip()\n",
    "    except:\n",
    "        data[\"Company Name\"]=None\n",
    "\n",
    "    company_content=cleantext.split(\"Company\")[1]\n",
    "    contact_content=cleantext.split(\"Contacts\")[1].split(\"Building Materials\")[0]\n",
    "\n",
    "    #company details\n",
    "    for i in range(len(company_info)):\n",
    "        if company_info[i]==\"Fleet Details\":\n",
    "            break\n",
    "        try:\n",
    "            data[company_info[i]]=company_content.split(company_info[i+1])[0].split(company_info[i])[1].strip()\n",
    "        except:\n",
    "            data[company_info[i]]=None\n",
    "    \n",
    "    #contact details\n",
    "    for i in range(len(contact_info)):\n",
    "        if contact_info[i]==\"Commodities\":\n",
    "            break\n",
    "        try:\n",
    "            data[contact_info[i]]=contact_content.split(contact_info[i+1])[0].split(contact_info[i])[1].strip()\n",
    "        except:\n",
    "            data[contact_info[i]]=None\n",
    "    \n",
    "    #fleet details\n",
    "    for i in range(len(fleet_info)):\n",
    "        if fleet_info[i]==\"Contacts\":\n",
    "            break\n",
    "        try:\n",
    "            data[fleet_info[i]]=company_content.split(fleet_info[i+1])[0].split(fleet_info[i])[1].strip()\n",
    "        except:\n",
    "            data[fleet_info[i]]=None\n",
    "    return data"
   ]
  },
  {
   "cell_type": "code",
   "execution_count": 198,
   "metadata": {},
   "outputs": [],
   "source": [
    "data,no_data=0,0\n",
    "for index, row in df.iterrows():\n",
    "    try:\n",
    "        output=extract(row[\"USDOT\"],row[\"content\"])\n",
    "        all_records.append(output)\n",
    "        data+=1\n",
    "    except:\n",
    "        allrecords_no_data.append({\"USDOT\":row[\"USDOT\"],\"content\":row[\"content\"]})\n",
    "        no_data+=1"
   ]
  },
  {
   "cell_type": "code",
   "execution_count": 199,
   "metadata": {},
   "outputs": [
    {
     "name": "stdout",
     "output_type": "stream",
     "text": [
      "Companies with Data    : 217230\n",
      "Companies without Data : 36295\n"
     ]
    }
   ],
   "source": [
    "print(f\"Companies with Data    : {data}\")\n",
    "print(f\"Companies without Data : {no_data}\")"
   ]
  },
  {
   "cell_type": "code",
   "execution_count": 200,
   "metadata": {},
   "outputs": [
    {
     "data": {
      "text/plain": [
       "253525"
      ]
     },
     "execution_count": 200,
     "metadata": {},
     "output_type": "execute_result"
    }
   ],
   "source": [
    "data+no_data"
   ]
  },
  {
   "cell_type": "code",
   "execution_count": 201,
   "metadata": {},
   "outputs": [
    {
     "data": {
      "text/plain": [
       "(253525, 2)"
      ]
     },
     "execution_count": 201,
     "metadata": {},
     "output_type": "execute_result"
    }
   ],
   "source": [
    "df.shape"
   ]
  },
  {
   "cell_type": "code",
   "execution_count": 202,
   "metadata": {},
   "outputs": [
    {
     "data": {
      "text/html": [
       "<div>\n",
       "<style scoped>\n",
       "    .dataframe tbody tr th:only-of-type {\n",
       "        vertical-align: middle;\n",
       "    }\n",
       "\n",
       "    .dataframe tbody tr th {\n",
       "        vertical-align: top;\n",
       "    }\n",
       "\n",
       "    .dataframe thead th {\n",
       "        text-align: right;\n",
       "    }\n",
       "</style>\n",
       "<table border=\"1\" class=\"dataframe\">\n",
       "  <thead>\n",
       "    <tr style=\"text-align: right;\">\n",
       "      <th></th>\n",
       "      <th>USDOT</th>\n",
       "      <th>Company Name</th>\n",
       "      <th>Operating status</th>\n",
       "      <th>DBA</th>\n",
       "      <th>Entity type</th>\n",
       "      <th>Operations</th>\n",
       "      <th>Classification</th>\n",
       "      <th>Docket #</th>\n",
       "      <th>DUNS #</th>\n",
       "      <th>SCAC</th>\n",
       "      <th>...</th>\n",
       "      <th>Email</th>\n",
       "      <th>Web</th>\n",
       "      <th>Mailing address</th>\n",
       "      <th>Representative</th>\n",
       "      <th>Power units</th>\n",
       "      <th>Autonomous units</th>\n",
       "      <th>Electric units</th>\n",
       "      <th>Drivers</th>\n",
       "      <th>SmartWay</th>\n",
       "      <th>CARB TRU</th>\n",
       "    </tr>\n",
       "  </thead>\n",
       "  <tbody>\n",
       "    <tr>\n",
       "      <th>0</th>\n",
       "      <td>883</td>\n",
       "      <td>NORTHWEST PIPE FITTINGS INC</td>\n",
       "      <td>ACTIVE</td>\n",
       "      <td></td>\n",
       "      <td>Carrier</td>\n",
       "      <td>Interstate</td>\n",
       "      <td>Private Property</td>\n",
       "      <td></td>\n",
       "      <td>7499718</td>\n",
       "      <td></td>\n",
       "      <td>...</td>\n",
       "      <td>lblack@northwestpipe.com</td>\n",
       "      <td>www.northwestpipe.com</td>\n",
       "      <td>P O BOX 920 RAPID CITY, SD 57709-0920</td>\n",
       "      <td>SCOTT BARBOUR DOUG JOHNSON</td>\n",
       "      <td>11</td>\n",
       "      <td></td>\n",
       "      <td></td>\n",
       "      <td>7</td>\n",
       "      <td>Not a</td>\n",
       "      <td>Not 100% compliant</td>\n",
       "    </tr>\n",
       "    <tr>\n",
       "      <th>1</th>\n",
       "      <td>1596</td>\n",
       "      <td>FOLTZ LITTER INC</td>\n",
       "      <td>ACTIVE</td>\n",
       "      <td></td>\n",
       "      <td>Carrier</td>\n",
       "      <td>Interstate</td>\n",
       "      <td>Private Property</td>\n",
       "      <td></td>\n",
       "      <td></td>\n",
       "      <td></td>\n",
       "      <td>...</td>\n",
       "      <td>lfoltz@hardynet.com</td>\n",
       "      <td></td>\n",
       "      <td>163 MIDDLE COVE ROAD MATHIAS, WV 26812</td>\n",
       "      <td>KEVIN L FOLTZ LORA J FOLTZ</td>\n",
       "      <td>11</td>\n",
       "      <td></td>\n",
       "      <td></td>\n",
       "      <td>8</td>\n",
       "      <td>Not a</td>\n",
       "      <td>Not 100% compliant</td>\n",
       "    </tr>\n",
       "    <tr>\n",
       "      <th>2</th>\n",
       "      <td>2340</td>\n",
       "      <td>KORTH TRUCKING INC</td>\n",
       "      <td>AUTHORIZED FOR PROPERTY</td>\n",
       "      <td></td>\n",
       "      <td>Carrier</td>\n",
       "      <td>Interstate</td>\n",
       "      <td>Authorized For Hire Private Property</td>\n",
       "      <td>MC177051</td>\n",
       "      <td>91997437</td>\n",
       "      <td></td>\n",
       "      <td>...</td>\n",
       "      <td>brad@kcgrain.com</td>\n",
       "      <td></td>\n",
       "      <td>55403 HIGHWAY 13 NORFOLK, NE 68701</td>\n",
       "      <td>BRAD KORTH</td>\n",
       "      <td>11</td>\n",
       "      <td></td>\n",
       "      <td></td>\n",
       "      <td>11</td>\n",
       "      <td>Not a</td>\n",
       "      <td>Not 100% compliant</td>\n",
       "    </tr>\n",
       "    <tr>\n",
       "      <th>3</th>\n",
       "      <td>2824</td>\n",
       "      <td>AMERICAN BLOCK COMPANY INC</td>\n",
       "      <td>ACTIVE</td>\n",
       "      <td></td>\n",
       "      <td>Carrier</td>\n",
       "      <td>Interstate</td>\n",
       "      <td>Private Property</td>\n",
       "      <td></td>\n",
       "      <td>5002738</td>\n",
       "      <td></td>\n",
       "      <td>...</td>\n",
       "      <td>easternvault@frontiernet.net</td>\n",
       "      <td></td>\n",
       "      <td>494 COURTHOUSE ROAD PRINCETON, WV 24740</td>\n",
       "      <td>BRIAN STRUBLE BRIAN P. STRUBLE</td>\n",
       "      <td>11</td>\n",
       "      <td></td>\n",
       "      <td></td>\n",
       "      <td>7</td>\n",
       "      <td>Not a</td>\n",
       "      <td>Not 100% compliant</td>\n",
       "    </tr>\n",
       "    <tr>\n",
       "      <th>4</th>\n",
       "      <td>4400</td>\n",
       "      <td>CAMPBELL TRACTOR &amp; IMPLEMENT INC</td>\n",
       "      <td>ACTIVE</td>\n",
       "      <td>CAMPBELL TRACTOR</td>\n",
       "      <td>Carrier</td>\n",
       "      <td>Interstate</td>\n",
       "      <td>Private Property</td>\n",
       "      <td></td>\n",
       "      <td>33982703</td>\n",
       "      <td></td>\n",
       "      <td>...</td>\n",
       "      <td>lbasley@campbelltractor.com</td>\n",
       "      <td>www.campbelltractor.com</td>\n",
       "      <td>2014 N FRANKLIN BLVD NAMPA, ID 83687</td>\n",
       "      <td>DAN W CAMPBELL</td>\n",
       "      <td>11</td>\n",
       "      <td></td>\n",
       "      <td></td>\n",
       "      <td>9</td>\n",
       "      <td>Not a</td>\n",
       "      <td>Not 100% compliant</td>\n",
       "    </tr>\n",
       "  </tbody>\n",
       "</table>\n",
       "<p>5 rows × 25 columns</p>\n",
       "</div>"
      ],
      "text/plain": [
       "   USDOT                      Company Name         Operating status  \\\n",
       "0    883       NORTHWEST PIPE FITTINGS INC                   ACTIVE   \n",
       "1   1596                  FOLTZ LITTER INC                   ACTIVE   \n",
       "2   2340                KORTH TRUCKING INC  AUTHORIZED FOR PROPERTY   \n",
       "3   2824        AMERICAN BLOCK COMPANY INC                   ACTIVE   \n",
       "4   4400  CAMPBELL TRACTOR & IMPLEMENT INC                   ACTIVE   \n",
       "\n",
       "                DBA Entity type  Operations  \\\n",
       "0                       Carrier  Interstate   \n",
       "1                       Carrier  Interstate   \n",
       "2                       Carrier  Interstate   \n",
       "3                       Carrier  Interstate   \n",
       "4  CAMPBELL TRACTOR     Carrier  Interstate   \n",
       "\n",
       "                         Classification  Docket #    DUNS # SCAC  ...  \\\n",
       "0                      Private Property             7499718       ...   \n",
       "1                      Private Property                           ...   \n",
       "2  Authorized For Hire Private Property  MC177051  91997437       ...   \n",
       "3                      Private Property             5002738       ...   \n",
       "4                      Private Property            33982703       ...   \n",
       "\n",
       "                          Email                      Web  \\\n",
       "0      lblack@northwestpipe.com    www.northwestpipe.com   \n",
       "1           lfoltz@hardynet.com                            \n",
       "2              brad@kcgrain.com                            \n",
       "3  easternvault@frontiernet.net                            \n",
       "4   lbasley@campbelltractor.com  www.campbelltractor.com   \n",
       "\n",
       "                           Mailing address                  Representative  \\\n",
       "0    P O BOX 920 RAPID CITY, SD 57709-0920      SCOTT BARBOUR DOUG JOHNSON   \n",
       "1   163 MIDDLE COVE ROAD MATHIAS, WV 26812      KEVIN L FOLTZ LORA J FOLTZ   \n",
       "2       55403 HIGHWAY 13 NORFOLK, NE 68701                      BRAD KORTH   \n",
       "3  494 COURTHOUSE ROAD PRINCETON, WV 24740  BRIAN STRUBLE BRIAN P. STRUBLE   \n",
       "4     2014 N FRANKLIN BLVD NAMPA, ID 83687                  DAN W CAMPBELL   \n",
       "\n",
       "  Power units Autonomous units Electric units Drivers SmartWay  \\\n",
       "0          11                                       7    Not a   \n",
       "1          11                                       8    Not a   \n",
       "2          11                                      11    Not a   \n",
       "3          11                                       7    Not a   \n",
       "4          11                                       9    Not a   \n",
       "\n",
       "             CARB TRU  \n",
       "0  Not 100% compliant  \n",
       "1  Not 100% compliant  \n",
       "2  Not 100% compliant  \n",
       "3  Not 100% compliant  \n",
       "4  Not 100% compliant  \n",
       "\n",
       "[5 rows x 25 columns]"
      ]
     },
     "execution_count": 202,
     "metadata": {},
     "output_type": "execute_result"
    }
   ],
   "source": [
    "df_with_data = pd.DataFrame.from_dict(all_records)\n",
    "df_with_data.head()"
   ]
  },
  {
   "cell_type": "code",
   "execution_count": 203,
   "metadata": {},
   "outputs": [
    {
     "data": {
      "text/html": [
       "<div>\n",
       "<style scoped>\n",
       "    .dataframe tbody tr th:only-of-type {\n",
       "        vertical-align: middle;\n",
       "    }\n",
       "\n",
       "    .dataframe tbody tr th {\n",
       "        vertical-align: top;\n",
       "    }\n",
       "\n",
       "    .dataframe thead th {\n",
       "        text-align: right;\n",
       "    }\n",
       "</style>\n",
       "<table border=\"1\" class=\"dataframe\">\n",
       "  <thead>\n",
       "    <tr style=\"text-align: right;\">\n",
       "      <th></th>\n",
       "      <th>USDOT</th>\n",
       "      <th>content</th>\n",
       "    </tr>\n",
       "  </thead>\n",
       "  <tbody>\n",
       "    <tr>\n",
       "      <th>0</th>\n",
       "      <td>100023</td>\n",
       "      <td>USDOT 100023 US DOT 411 Search Monitoring Anal...</td>\n",
       "    </tr>\n",
       "    <tr>\n",
       "      <th>1</th>\n",
       "      <td>100044</td>\n",
       "      <td>USDOT 100044 US DOT 411 Search Monitoring Anal...</td>\n",
       "    </tr>\n",
       "    <tr>\n",
       "      <th>2</th>\n",
       "      <td>100079</td>\n",
       "      <td>USDOT 100079 US DOT 411 Search Monitoring Anal...</td>\n",
       "    </tr>\n",
       "    <tr>\n",
       "      <th>3</th>\n",
       "      <td>100087</td>\n",
       "      <td>USDOT 100087 US DOT 411 Search Monitoring Anal...</td>\n",
       "    </tr>\n",
       "    <tr>\n",
       "      <th>4</th>\n",
       "      <td>100097</td>\n",
       "      <td>USDOT 100097 US DOT 411 Search Monitoring Anal...</td>\n",
       "    </tr>\n",
       "  </tbody>\n",
       "</table>\n",
       "</div>"
      ],
      "text/plain": [
       "    USDOT                                            content\n",
       "0  100023  USDOT 100023 US DOT 411 Search Monitoring Anal...\n",
       "1  100044  USDOT 100044 US DOT 411 Search Monitoring Anal...\n",
       "2  100079  USDOT 100079 US DOT 411 Search Monitoring Anal...\n",
       "3  100087  USDOT 100087 US DOT 411 Search Monitoring Anal...\n",
       "4  100097  USDOT 100097 US DOT 411 Search Monitoring Anal..."
      ]
     },
     "execution_count": 203,
     "metadata": {},
     "output_type": "execute_result"
    }
   ],
   "source": [
    "df_without_data = pd.DataFrame.from_dict(allrecords_no_data)\n",
    "df_without_data.head()"
   ]
  },
  {
   "cell_type": "code",
   "execution_count": 204,
   "metadata": {},
   "outputs": [],
   "source": [
    "df_with_data.to_csv (r'../extracted_data/extracted_companies.csv', index = False, header=True)\n",
    "df_without_data.to_csv (r'../extracted_data/extracted_companies_no_data.csv', index = False, header=True)"
   ]
  }
 ],
 "metadata": {
  "kernelspec": {
   "display_name": "Python 3.9.9 ('.venv': venv)",
   "language": "python",
   "name": "python3"
  },
  "language_info": {
   "codemirror_mode": {
    "name": "ipython",
    "version": 3
   },
   "file_extension": ".py",
   "mimetype": "text/x-python",
   "name": "python",
   "nbconvert_exporter": "python",
   "pygments_lexer": "ipython3",
   "version": "3.9.9"
  },
  "orig_nbformat": 4,
  "vscode": {
   "interpreter": {
    "hash": "b632faf08294e32e05e4e52fa9ae0f2cfd309e39f4e6866cf7a9068f2ca9c4ab"
   }
  }
 },
 "nbformat": 4,
 "nbformat_minor": 2
}
